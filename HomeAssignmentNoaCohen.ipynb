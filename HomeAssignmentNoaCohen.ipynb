{
  "nbformat": 4,
  "nbformat_minor": 0,
  "metadata": {
    "colab": {
      "provenance": []
    },
    "kernelspec": {
      "name": "python3",
      "display_name": "Python 3"
    },
    "language_info": {
      "name": "python"
    }
  },
  "cells": [
    {
      "cell_type": "code",
      "execution_count": null,
      "metadata": {
        "colab": {
          "base_uri": "https://localhost:8080/"
        },
        "id": "b-8l8vrxKGe2",
        "outputId": "e785314a-7cef-423c-edba-b88baa15e2ad"
      },
      "outputs": [
        {
          "metadata": {
            "tags": null
          },
          "name": "stdout",
          "output_type": "stream",
          "text": [
            "Requirement already satisfied: flask-ngrok in /usr/local/lib/python3.10/dist-packages (0.0.25)\n",
            "Requirement already satisfied: Flask>=0.8 in /usr/local/lib/python3.10/dist-packages (from flask-ngrok) (3.0.3)\n",
            "Requirement already satisfied: requests in /usr/local/lib/python3.10/dist-packages (from flask-ngrok) (2.32.3)\n",
            "Requirement already satisfied: Werkzeug>=3.0.0 in /usr/local/lib/python3.10/dist-packages (from Flask>=0.8->flask-ngrok) (3.1.3)\n",
            "Requirement already satisfied: Jinja2>=3.1.2 in /usr/local/lib/python3.10/dist-packages (from Flask>=0.8->flask-ngrok) (3.1.4)\n",
            "Requirement already satisfied: itsdangerous>=2.1.2 in /usr/local/lib/python3.10/dist-packages (from Flask>=0.8->flask-ngrok) (2.2.0)\n",
            "Requirement already satisfied: click>=8.1.3 in /usr/local/lib/python3.10/dist-packages (from Flask>=0.8->flask-ngrok) (8.1.7)\n",
            "Requirement already satisfied: blinker>=1.6.2 in /usr/local/lib/python3.10/dist-packages (from Flask>=0.8->flask-ngrok) (1.9.0)\n",
            "Requirement already satisfied: charset-normalizer<4,>=2 in /usr/local/lib/python3.10/dist-packages (from requests->flask-ngrok) (3.4.0)\n",
            "Requirement already satisfied: idna<4,>=2.5 in /usr/local/lib/python3.10/dist-packages (from requests->flask-ngrok) (3.10)\n",
            "Requirement already satisfied: urllib3<3,>=1.21.1 in /usr/local/lib/python3.10/dist-packages (from requests->flask-ngrok) (2.2.3)\n",
            "Requirement already satisfied: certifi>=2017.4.17 in /usr/local/lib/python3.10/dist-packages (from requests->flask-ngrok) (2024.8.30)\n",
            "Requirement already satisfied: MarkupSafe>=2.0 in /usr/local/lib/python3.10/dist-packages (from Jinja2>=3.1.2->Flask>=0.8->flask-ngrok) (3.0.2)\n",
            "\n",
            "Welcome to the Date Converter! Please enter a Gregorian date\n",
            "\n",
            "Gregorian date: 2020-12-12\n",
            "Hebrew date: כ״ו בְּכִסְלֵו תשפ״א\n",
            "\n",
            "Welcome to the Date Converter! Please enter a Gregorian date\n",
            "\n",
            "Gregorian date: 2020-12-12\n",
            "Hebrew date: כ״ו בְּכִסְלֵו תשפ״א\n",
            "\n",
            "Welcome to the Date Converter! Please enter a Gregorian date\n"
          ]
        }
      ],
      "source": [
        "!pip install flask-ngrok\n",
        "\n",
        "from flask import Flask, request, jsonify\n",
        "from flask_ngrok import run_with_ngrok\n",
        "import requests\n",
        "from datetime import datetime\n",
        "\n",
        "app = Flask(__name__)\n",
        "run_with_ngrok(app)\n",
        "\n",
        "@app.route('/convert-date', methods=['GET'])\n",
        "def convert_date():\n",
        "    gregorian_date = request.args.get('date')\n",
        "    after_sunset = request.args.get('after_sunset', 'false').lower() == 'true'\n",
        "\n",
        "    if not gregorian_date:\n",
        "        return jsonify({\"error\": \"Missing date parameter. Use the format YYYY-MM-DD\"}), 400\n",
        "\n",
        "    api_url = f\"https://www.hebcal.com/converter?cfg=json&date={gregorian_date}&g2h=1&strict=1\"\n",
        "    if after_sunset:\n",
        "        api_url += \"&gs=on\"\n",
        "\n",
        "    response = requests.get(api_url)\n",
        "\n",
        "    if response.status_code != 200:\n",
        "        return jsonify({\"error\": \"Failed to fetch Hebrew date. Check the provided date.\"}), 400\n",
        "\n",
        "    data = response.json()\n",
        "    if \"hebrew\" not in data:\n",
        "        return jsonify({\"error\": \"Invalid response from the API\"}), 500\n",
        "\n",
        "    return jsonify({\n",
        "        \"gregorian_date\": gregorian_date,\n",
        "        \"hebrew_date\": data[\"hebrew\"],\n",
        "        \"after_sunset\": after_sunset\n",
        "    })\n",
        "\n",
        "if __name__ == '__main__':\n",
        "    while True:\n",
        "        print(\"\\nWelcome to the Date Converter! Please enter a Gregorian date\")\n",
        "        gregorian_date = input(\"Gregorian date in the format YYYY-MM-DD (or type 'exit' to quit): \").strip()\n",
        "\n",
        "        if gregorian_date.lower() == 'exit':\n",
        "            print(\"Thank you for using the Date Converter! Goodbye!\")\n",
        "            break\n",
        "\n",
        "        try:\n",
        "            datetime.strptime(gregorian_date, \"%Y-%m-%d\")\n",
        "        except ValueError:\n",
        "            print(\"Invalid date. Please enter a valid Gregorian date in the format YYYY-MM-DD.\")\n",
        "            continue\n",
        "\n",
        "\n",
        "        after_sunset = input(\"Is it after sunset? Please type 'yes' or 'no': \").strip().lower()\n",
        "        if after_sunset not in ['yes', 'no']:\n",
        "            print(\"Invalid input for after sunset. Please enter 'yes' or 'no'.\")\n",
        "            continue\n",
        "\n",
        "\n",
        "        after_sunset = after_sunset == 'yes'\n",
        "\n",
        "\n",
        "        api_url = f\"https://www.hebcal.com/converter?cfg=json&date={gregorian_date}&g2h=1&strict=1\"\n",
        "        if after_sunset:\n",
        "            api_url += \"&gs=on\"\n",
        "\n",
        "        response = requests.get(api_url)\n",
        "\n",
        "\n",
        "        if response.status_code == 200:\n",
        "            data = response.json()\n",
        "            if \"hebrew\" in data:\n",
        "                print(f\"\\nGregorian date: {gregorian_date}\")\n",
        "                print(f\"Hebrew date: {data['hebrew']}\")\n",
        "            else:\n",
        "                print(\"Error in converting the date.\")\n",
        "        else:\n",
        "            print(\"Error in fetching the data. Please check the date you entered.\")\n"
      ]
    }
  ]
}